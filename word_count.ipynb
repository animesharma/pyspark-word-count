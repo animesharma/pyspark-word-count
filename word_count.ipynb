{
 "cells": [
  {
   "cell_type": "code",
   "execution_count": 1,
   "id": "9f6e766e-9ee8-498e-9754-b7c2609d58ea",
   "metadata": {},
   "outputs": [],
   "source": [
    "import re\n",
    "from pyspark.sql import SparkSession"
   ]
  },
  {
   "cell_type": "code",
   "execution_count": 2,
   "id": "c99d9821-c8eb-4f9c-9ae0-09b35c4a5cea",
   "metadata": {},
   "outputs": [
    {
     "name": "stdout",
     "output_type": "stream",
     "text": [
      "['The Project Gutenberg EBook of The Complete Works of William Shakespeare, by', 'William Shakespeare', '', 'This eBook is for the use of anyone anywhere at no cost and with', 'almost no restrictions whatsoever.  You may copy it, give it away or', 're-use it under the terms of the Project Gutenberg License included', 'with this eBook or online at www.gutenberg.org', '', '** This is a COPYRIGHTED Project Gutenberg eBook, Details Below **', '**     Please follow the copyright guidelines in this file.     **']\n"
     ]
    }
   ],
   "source": [
    "# Create PySpark Session\n",
    "spark = SparkSession.builder.appName(\"WordCount\").getOrCreate()\n",
    "# Read input file and store it as a Resilient Distributed Dataset\n",
    "text = spark.sparkContext.textFile(\"./input.txt\")\n",
    "# Print first 10 lines\n",
    "print(text.take(10))"
   ]
  },
  {
   "cell_type": "code",
   "execution_count": 3,
   "id": "2c399777-5f81-45d8-9b00-75001c2c9b82",
   "metadata": {},
   "outputs": [
    {
     "name": "stdout",
     "output_type": "stream",
     "text": [
      "['the', 'project', 'gutenberg', 'ebook', 'of', 'the', 'complete', 'works', 'of', 'william']\n"
     ]
    }
   ],
   "source": [
    "def splitter(line):\n",
    "    # Remove any non-words\n",
    "    line = re.sub(r\"^\\W+|\\W+$\", \"\", line)\n",
    "    # Split lines into separate words and convert all words to lowercase\n",
    "    return map(str.lower, re.split(r\"\\W+\", line))\n",
    "\n",
    "# Create an RDD of each word in the input file\n",
    "words = text.flatMap(splitter)\n",
    "print(words.take(10))"
   ]
  },
  {
   "cell_type": "code",
   "execution_count": 4,
   "id": "dac17fdb-b94e-4780-bbd4-51664c01e2f3",
   "metadata": {},
   "outputs": [
    {
     "name": "stdout",
     "output_type": "stream",
     "text": [
      "[('the', 1), ('project', 1), ('gutenberg', 1), ('ebook', 1), ('of', 1), ('the', 1), ('complete', 1), ('works', 1), ('of', 1), ('william', 1)]\n"
     ]
    }
   ],
   "source": [
    "# Map Step\n",
    "\n",
    "# Assign a count of 1 to each word\n",
    "mapped_words = words.map(lambda x: (x,1))\n",
    "print(mapped_words.take(10))"
   ]
  },
  {
   "cell_type": "code",
   "execution_count": 5,
   "id": "9fea0004-bcca-47f9-af3e-d77248cac428",
   "metadata": {},
   "outputs": [
    {
     "name": "stdout",
     "output_type": "stream",
     "text": [
      "[('project', 331), ('gutenberg', 326), ('ebook', 17), ('of', 18307), ('shakespeare', 272), ('', 9682), ('this', 6900), ('is', 9808), ('use', 562), ('anyone', 7)]\n"
     ]
    }
   ],
   "source": [
    "# Reduce Step\n",
    "from operator import add\n",
    "\n",
    "# Aggregate the total count of each word\n",
    "counts = mapped_words.reduceByKey(add)\n",
    "print(counts.take(10))"
   ]
  },
  {
   "cell_type": "code",
   "execution_count": 6,
   "id": "49105b29-bd23-48d9-a248-1e202a42c0f1",
   "metadata": {},
   "outputs": [],
   "source": [
    "# Store word_counts as a dictionary with word as key and count as value\n",
    "word_counts = {item[0] : item[1] for item in counts.collect()}"
   ]
  },
  {
   "cell_type": "code",
   "execution_count": 7,
   "id": "24a86b84-5bf4-48f8-972a-c6fc2d11b054",
   "metadata": {},
   "outputs": [],
   "source": [
    "# Save result as JSON\n",
    "import json\n",
    "with open(\"./output/word_count.json\", \"w\") as outfile:\n",
    "    json.dump(word_counts, outfile, indent = 4)"
   ]
  }
 ],
 "metadata": {
  "kernelspec": {
   "display_name": "* Spark 3 in Python 3.8",
   "language": "python",
   "name": "pyspark3"
  },
  "language_info": {
   "codemirror_mode": {
    "name": "ipython",
    "version": 3
   },
   "file_extension": ".py",
   "mimetype": "text/x-python",
   "name": "python",
   "nbconvert_exporter": "python",
   "pygments_lexer": "ipython3",
   "version": "3.8.10"
  }
 },
 "nbformat": 4,
 "nbformat_minor": 5
}
